{
 "cells": [
  {
   "cell_type": "markdown",
   "metadata": {},
   "source": [
    "- **This notbook contains the purchase history of the customers.**\n",
    "- **The analysis is done to classify the cusotmers into different segments based on the Recency, Frequency and Monetary Value of thier purchases.**"
   ]
  },
  {
   "cell_type": "markdown",
   "metadata": {},
   "source": [
    "# Import libraries"
   ]
  },
  {
   "cell_type": "code",
   "execution_count": 42,
   "metadata": {},
   "outputs": [],
   "source": [
    "# Import libraries\n",
    "import pandas as pd\n",
    "from datetime import timedelta\n",
    "import matplotlib.pyplot as plt\n",
    "import seaborn as sns\n",
    "%matplotlib inline\n",
    "import squarify"
   ]
  },
  {
   "cell_type": "markdown",
   "metadata": {},
   "source": [
    "# Import Data"
   ]
  },
  {
   "cell_type": "code",
   "execution_count": 43,
   "metadata": {},
   "outputs": [],
   "source": [
    "#Import Data\n",
    "purchase= pd.read_csv(\"./purchase_data.csv\" ,index_col=0)"
   ]
  },
  {
   "cell_type": "code",
   "execution_count": 44,
   "metadata": {},
   "outputs": [
    {
     "data": {
      "text/html": [
       "<div>\n",
       "<style scoped>\n",
       "    .dataframe tbody tr th:only-of-type {\n",
       "        vertical-align: middle;\n",
       "    }\n",
       "\n",
       "    .dataframe tbody tr th {\n",
       "        vertical-align: top;\n",
       "    }\n",
       "\n",
       "    .dataframe thead th {\n",
       "        text-align: right;\n",
       "    }\n",
       "</style>\n",
       "<table border=\"1\" class=\"dataframe\">\n",
       "  <thead>\n",
       "    <tr style=\"text-align: right;\">\n",
       "      <th></th>\n",
       "      <th>Invoice_Id</th>\n",
       "      <th>Amount</th>\n",
       "      <th>Purchase_Date</th>\n",
       "      <th>Customer_Id</th>\n",
       "    </tr>\n",
       "  </thead>\n",
       "  <tbody>\n",
       "    <tr>\n",
       "      <td>0</td>\n",
       "      <td>272352054.0</td>\n",
       "      <td>140.01</td>\n",
       "      <td>2019-05-05</td>\n",
       "      <td>Customer: 1</td>\n",
       "    </tr>\n",
       "    <tr>\n",
       "      <td>1</td>\n",
       "      <td>299813385.0</td>\n",
       "      <td>37.44</td>\n",
       "      <td>2019-11-16</td>\n",
       "      <td>Customer: 1</td>\n",
       "    </tr>\n",
       "    <tr>\n",
       "      <td>2</td>\n",
       "      <td>313339477.0</td>\n",
       "      <td>26.93</td>\n",
       "      <td>2020-03-06</td>\n",
       "      <td>Customer: 2</td>\n",
       "    </tr>\n",
       "    <tr>\n",
       "      <td>3</td>\n",
       "      <td>315150354.0</td>\n",
       "      <td>27.40</td>\n",
       "      <td>2020-03-22</td>\n",
       "      <td>Customer: 2</td>\n",
       "    </tr>\n",
       "    <tr>\n",
       "      <td>4</td>\n",
       "      <td>305737473.0</td>\n",
       "      <td>28.42</td>\n",
       "      <td>2019-12-13</td>\n",
       "      <td>Customer: 3</td>\n",
       "    </tr>\n",
       "  </tbody>\n",
       "</table>\n",
       "</div>"
      ],
      "text/plain": [
       "    Invoice_Id  Amount Purchase_Date  Customer_Id\n",
       "0  272352054.0  140.01    2019-05-05  Customer: 1\n",
       "1  299813385.0   37.44    2019-11-16  Customer: 1\n",
       "2  313339477.0   26.93    2020-03-06  Customer: 2\n",
       "3  315150354.0   27.40    2020-03-22  Customer: 2\n",
       "4  305737473.0   28.42    2019-12-13  Customer: 3"
      ]
     },
     "execution_count": 44,
     "metadata": {},
     "output_type": "execute_result"
    }
   ],
   "source": [
    "purchase.head()"
   ]
  },
  {
   "cell_type": "code",
   "execution_count": 45,
   "metadata": {},
   "outputs": [
    {
     "data": {
      "text/plain": [
       "(971102, 4)"
      ]
     },
     "execution_count": 45,
     "metadata": {},
     "output_type": "execute_result"
    }
   ],
   "source": [
    "purchase.shape"
   ]
  },
  {
   "cell_type": "code",
   "execution_count": 46,
   "metadata": {},
   "outputs": [
    {
     "name": "stdout",
     "output_type": "stream",
     "text": [
      "Invoice_Id  : 644545\n",
      "Amount  : 30214\n",
      "Purchase_Date  : 423\n",
      "Customer_Id  : 338190\n"
     ]
    }
   ],
   "source": [
    "#Check unique number of values for each column\n",
    "def unique_counts(purchase):\n",
    "    for i in purchase.columns:\n",
    "        count = purchase[i].nunique()\n",
    "        print(i,\" :\", count)\n",
    "unique_counts(purchase)"
   ]
  },
  {
   "cell_type": "code",
   "execution_count": 47,
   "metadata": {},
   "outputs": [
    {
     "data": {
      "text/plain": [
       "Invoice_Id       644545\n",
       "Amount            30214\n",
       "Purchase_Date       423\n",
       "Customer_Id      338190\n",
       "dtype: int64"
      ]
     },
     "execution_count": 47,
     "metadata": {},
     "output_type": "execute_result"
    }
   ],
   "source": [
    "#Easy way to check the number of unique values\n",
    "purchase.nunique()"
   ]
  },
  {
   "cell_type": "code",
   "execution_count": 48,
   "metadata": {},
   "outputs": [
    {
     "name": "stdout",
     "output_type": "stream",
     "text": [
      "<class 'pandas.core.frame.DataFrame'>\n",
      "Int64Index: 971102 entries, 0 to 971101\n",
      "Data columns (total 4 columns):\n",
      "Invoice_Id       970778 non-null float64\n",
      "Amount           971102 non-null float64\n",
      "Purchase_Date    971102 non-null object\n",
      "Customer_Id      971102 non-null object\n",
      "dtypes: float64(2), object(2)\n",
      "memory usage: 37.0+ MB\n"
     ]
    }
   ],
   "source": [
    "#Check all the data types\n",
    "purchase.info()"
   ]
  },
  {
   "cell_type": "code",
   "execution_count": 49,
   "metadata": {},
   "outputs": [],
   "source": [
    "#Converting the 'Purchase_Date' type into datetime\n",
    "purchase['Purchase_Date'] = pd.to_datetime(purchase['Purchase_Date'])"
   ]
  },
  {
   "cell_type": "code",
   "execution_count": 50,
   "metadata": {},
   "outputs": [
    {
     "data": {
      "text/plain": [
       "Invoice_Id              float64\n",
       "Amount                  float64\n",
       "Purchase_Date    datetime64[ns]\n",
       "Customer_Id              object\n",
       "dtype: object"
      ]
     },
     "execution_count": 50,
     "metadata": {},
     "output_type": "execute_result"
    }
   ],
   "source": [
    "purchase.dtypes"
   ]
  },
  {
   "cell_type": "markdown",
   "metadata": {},
   "source": [
    "# RFM Customer Segmentation"
   ]
  },
  {
   "cell_type": "code",
   "execution_count": 51,
   "metadata": {},
   "outputs": [
    {
     "name": "stdout",
     "output_type": "stream",
     "text": [
      "2020-09-25\n"
     ]
    }
   ],
   "source": [
    "#RFM segmentation starts from here\n",
    "from datetime import date\n",
    "now = date.today()\n",
    "print(now)"
   ]
  },
  {
   "cell_type": "markdown",
   "metadata": {},
   "source": [
    "# RFM Table"
   ]
  },
  {
   "cell_type": "code",
   "execution_count": 52,
   "metadata": {},
   "outputs": [],
   "source": [
    "#create a RFM table\n",
    "rfm_table = purchase.groupby('Customer_Id').agg({'Purchase_Date': \n",
    "                                                           lambda Date:(now - Date.max().date()).days,\n",
    "                                                            'Invoice_Id': lambda x: len(x),\n",
    "                                                            'Amount': lambda Amount: Amount.sum()})"
   ]
  },
  {
   "cell_type": "code",
   "execution_count": 53,
   "metadata": {},
   "outputs": [
    {
     "data": {
      "text/html": [
       "<div>\n",
       "<style scoped>\n",
       "    .dataframe tbody tr th:only-of-type {\n",
       "        vertical-align: middle;\n",
       "    }\n",
       "\n",
       "    .dataframe tbody tr th {\n",
       "        vertical-align: top;\n",
       "    }\n",
       "\n",
       "    .dataframe thead th {\n",
       "        text-align: right;\n",
       "    }\n",
       "</style>\n",
       "<table border=\"1\" class=\"dataframe\">\n",
       "  <thead>\n",
       "    <tr style=\"text-align: right;\">\n",
       "      <th></th>\n",
       "      <th>Purchase_Date</th>\n",
       "      <th>Invoice_Id</th>\n",
       "      <th>Amount</th>\n",
       "    </tr>\n",
       "    <tr>\n",
       "      <th>Customer_Id</th>\n",
       "      <th></th>\n",
       "      <th></th>\n",
       "      <th></th>\n",
       "    </tr>\n",
       "  </thead>\n",
       "  <tbody>\n",
       "    <tr>\n",
       "      <td>Customer: 1</td>\n",
       "      <td>314</td>\n",
       "      <td>2.0</td>\n",
       "      <td>177.45</td>\n",
       "    </tr>\n",
       "    <tr>\n",
       "      <td>Customer: 10</td>\n",
       "      <td>357</td>\n",
       "      <td>6.0</td>\n",
       "      <td>176.44</td>\n",
       "    </tr>\n",
       "    <tr>\n",
       "      <td>Customer: 100</td>\n",
       "      <td>126</td>\n",
       "      <td>2.0</td>\n",
       "      <td>34.56</td>\n",
       "    </tr>\n",
       "  </tbody>\n",
       "</table>\n",
       "</div>"
      ],
      "text/plain": [
       "               Purchase_Date  Invoice_Id  Amount\n",
       "Customer_Id                                     \n",
       "Customer: 1              314         2.0  177.45\n",
       "Customer: 10             357         6.0  176.44\n",
       "Customer: 100            126         2.0   34.56"
      ]
     },
     "execution_count": 53,
     "metadata": {},
     "output_type": "execute_result"
    }
   ],
   "source": [
    "rfm_table.head(3)"
   ]
  },
  {
   "cell_type": "code",
   "execution_count": 54,
   "metadata": {},
   "outputs": [],
   "source": [
    "rfm_table.reset_index(inplace=True)"
   ]
  },
  {
   "cell_type": "markdown",
   "metadata": {},
   "source": [
    "# Recency , Frequency & Monetary Value"
   ]
  },
  {
   "cell_type": "code",
   "execution_count": 55,
   "metadata": {},
   "outputs": [],
   "source": [
    "#Renaming the columns to the appropriate names\n",
    "#Recency — number of days since the last purchase\n",
    "#Frequency — number of transactions made over a given period\n",
    "#Monetary — amount spent over a given period of time\n",
    "rfm_table.rename(columns = {'Purchase_Date' : 'Recency',\n",
    "                           'Invoice_Id' : 'Frequency',\n",
    "                           'Amount' : 'Monetary_Value'}, inplace=True) "
   ]
  },
  {
   "cell_type": "code",
   "execution_count": 56,
   "metadata": {},
   "outputs": [
    {
     "data": {
      "text/html": [
       "<div>\n",
       "<style scoped>\n",
       "    .dataframe tbody tr th:only-of-type {\n",
       "        vertical-align: middle;\n",
       "    }\n",
       "\n",
       "    .dataframe tbody tr th {\n",
       "        vertical-align: top;\n",
       "    }\n",
       "\n",
       "    .dataframe thead th {\n",
       "        text-align: right;\n",
       "    }\n",
       "</style>\n",
       "<table border=\"1\" class=\"dataframe\">\n",
       "  <thead>\n",
       "    <tr style=\"text-align: right;\">\n",
       "      <th></th>\n",
       "      <th>Customer_Id</th>\n",
       "      <th>Recency</th>\n",
       "      <th>Frequency</th>\n",
       "      <th>Monetary_Value</th>\n",
       "    </tr>\n",
       "  </thead>\n",
       "  <tbody>\n",
       "    <tr>\n",
       "      <td>0</td>\n",
       "      <td>Customer: 1</td>\n",
       "      <td>314</td>\n",
       "      <td>2.0</td>\n",
       "      <td>177.45</td>\n",
       "    </tr>\n",
       "    <tr>\n",
       "      <td>1</td>\n",
       "      <td>Customer: 10</td>\n",
       "      <td>357</td>\n",
       "      <td>6.0</td>\n",
       "      <td>176.44</td>\n",
       "    </tr>\n",
       "    <tr>\n",
       "      <td>2</td>\n",
       "      <td>Customer: 100</td>\n",
       "      <td>126</td>\n",
       "      <td>2.0</td>\n",
       "      <td>34.56</td>\n",
       "    </tr>\n",
       "  </tbody>\n",
       "</table>\n",
       "</div>"
      ],
      "text/plain": [
       "     Customer_Id  Recency  Frequency  Monetary_Value\n",
       "0    Customer: 1      314        2.0          177.45\n",
       "1   Customer: 10      357        6.0          176.44\n",
       "2  Customer: 100      126        2.0           34.56"
      ]
     },
     "execution_count": 56,
     "metadata": {},
     "output_type": "execute_result"
    }
   ],
   "source": [
    "rfm_table.head(3)"
   ]
  },
  {
   "cell_type": "code",
   "execution_count": 57,
   "metadata": {},
   "outputs": [
    {
     "name": "stdout",
     "output_type": "stream",
     "text": [
      "{'Recency': {0.25: 162.0, 0.5: 283.0, 0.75: 345.0}, 'Frequency': {0.25: 1.0, 0.5: 2.0, 0.75: 3.0}, 'Monetary_Value': {0.25: 45.68, 0.5: 92.39, 0.75: 190.3}}\n"
     ]
    }
   ],
   "source": [
    "#Split the metrics into segments by using quartiles\n",
    "quantiles =  rfm_table.quantile(q = [0.25,0.5,0.75])\n",
    "quantiles = quantiles.to_dict()\n",
    "print(quantiles)"
   ]
  },
  {
   "cell_type": "markdown",
   "metadata": {},
   "source": [
    "# Segmented RFM Table"
   ]
  },
  {
   "cell_type": "code",
   "execution_count": 58,
   "metadata": {},
   "outputs": [
    {
     "data": {
      "text/html": [
       "<div>\n",
       "<style scoped>\n",
       "    .dataframe tbody tr th:only-of-type {\n",
       "        vertical-align: middle;\n",
       "    }\n",
       "\n",
       "    .dataframe tbody tr th {\n",
       "        vertical-align: top;\n",
       "    }\n",
       "\n",
       "    .dataframe thead th {\n",
       "        text-align: right;\n",
       "    }\n",
       "</style>\n",
       "<table border=\"1\" class=\"dataframe\">\n",
       "  <thead>\n",
       "    <tr style=\"text-align: right;\">\n",
       "      <th></th>\n",
       "      <th>Customer_Id</th>\n",
       "      <th>Recency</th>\n",
       "      <th>Frequency</th>\n",
       "      <th>Monetary_Value</th>\n",
       "    </tr>\n",
       "  </thead>\n",
       "  <tbody>\n",
       "    <tr>\n",
       "      <td>0</td>\n",
       "      <td>Customer: 1</td>\n",
       "      <td>314</td>\n",
       "      <td>2.0</td>\n",
       "      <td>177.45</td>\n",
       "    </tr>\n",
       "    <tr>\n",
       "      <td>1</td>\n",
       "      <td>Customer: 10</td>\n",
       "      <td>357</td>\n",
       "      <td>6.0</td>\n",
       "      <td>176.44</td>\n",
       "    </tr>\n",
       "    <tr>\n",
       "      <td>2</td>\n",
       "      <td>Customer: 100</td>\n",
       "      <td>126</td>\n",
       "      <td>2.0</td>\n",
       "      <td>34.56</td>\n",
       "    </tr>\n",
       "    <tr>\n",
       "      <td>3</td>\n",
       "      <td>Customer: 1000</td>\n",
       "      <td>369</td>\n",
       "      <td>1.0</td>\n",
       "      <td>47.43</td>\n",
       "    </tr>\n",
       "    <tr>\n",
       "      <td>4</td>\n",
       "      <td>Customer: 10000</td>\n",
       "      <td>119</td>\n",
       "      <td>3.0</td>\n",
       "      <td>98.53</td>\n",
       "    </tr>\n",
       "  </tbody>\n",
       "</table>\n",
       "</div>"
      ],
      "text/plain": [
       "       Customer_Id  Recency  Frequency  Monetary_Value\n",
       "0      Customer: 1      314        2.0          177.45\n",
       "1     Customer: 10      357        6.0          176.44\n",
       "2    Customer: 100      126        2.0           34.56\n",
       "3   Customer: 1000      369        1.0           47.43\n",
       "4  Customer: 10000      119        3.0           98.53"
      ]
     },
     "execution_count": 58,
     "metadata": {},
     "output_type": "execute_result"
    }
   ],
   "source": [
    "#create a segmented RFM Table\n",
    "segmented_rfm = rfm_table\n",
    "segmented_rfm.head()"
   ]
  },
  {
   "cell_type": "code",
   "execution_count": 59,
   "metadata": {},
   "outputs": [],
   "source": [
    "#logic to define the best customers\n",
    "#The lowest recency, highest frequency and monetary amounts are our best customers.\n",
    "def RScore(x,d):\n",
    "    if x <= d['Recency'][0.25]:\n",
    "        return 1\n",
    "    elif x<= d['Recency'][0.50]:\n",
    "        return 2\n",
    "    elif x<= d['Recency'][0.75]:\n",
    "        return 3\n",
    "    else:\n",
    "        return 4\n",
    "    \n",
    "def FScore(x,d):\n",
    "    if x <= d['Frequency'][0.25]:\n",
    "        return 4\n",
    "    elif x<= d['Frequency'][0.50]:\n",
    "        return 3\n",
    "    elif x<= d['Frequency'][0.75]:\n",
    "        return 2\n",
    "    else:\n",
    "        return 1\n",
    "\n",
    "def MScore(x,d):\n",
    "    if x <= d['Monetary_Value'][0.25]:\n",
    "        return 4\n",
    "    elif x<= d['Monetary_Value'][0.50]:\n",
    "        return 3\n",
    "    elif x<= d['Monetary_Value'][0.75]:\n",
    "        return 2\n",
    "    else:\n",
    "        return 1\n",
    "\n",
    "    "
   ]
  },
  {
   "cell_type": "code",
   "execution_count": 60,
   "metadata": {},
   "outputs": [
    {
     "data": {
      "text/html": [
       "<div>\n",
       "<style scoped>\n",
       "    .dataframe tbody tr th:only-of-type {\n",
       "        vertical-align: middle;\n",
       "    }\n",
       "\n",
       "    .dataframe tbody tr th {\n",
       "        vertical-align: top;\n",
       "    }\n",
       "\n",
       "    .dataframe thead th {\n",
       "        text-align: right;\n",
       "    }\n",
       "</style>\n",
       "<table border=\"1\" class=\"dataframe\">\n",
       "  <thead>\n",
       "    <tr style=\"text-align: right;\">\n",
       "      <th></th>\n",
       "      <th>Customer_Id</th>\n",
       "      <th>Recency</th>\n",
       "      <th>Frequency</th>\n",
       "      <th>Monetary_Value</th>\n",
       "      <th>r_quartile</th>\n",
       "      <th>f_quartile</th>\n",
       "      <th>m_quartile</th>\n",
       "    </tr>\n",
       "  </thead>\n",
       "  <tbody>\n",
       "    <tr>\n",
       "      <td>0</td>\n",
       "      <td>Customer: 1</td>\n",
       "      <td>314</td>\n",
       "      <td>2.0</td>\n",
       "      <td>177.45</td>\n",
       "      <td>3</td>\n",
       "      <td>3</td>\n",
       "      <td>2</td>\n",
       "    </tr>\n",
       "    <tr>\n",
       "      <td>1</td>\n",
       "      <td>Customer: 10</td>\n",
       "      <td>357</td>\n",
       "      <td>6.0</td>\n",
       "      <td>176.44</td>\n",
       "      <td>4</td>\n",
       "      <td>1</td>\n",
       "      <td>2</td>\n",
       "    </tr>\n",
       "    <tr>\n",
       "      <td>2</td>\n",
       "      <td>Customer: 100</td>\n",
       "      <td>126</td>\n",
       "      <td>2.0</td>\n",
       "      <td>34.56</td>\n",
       "      <td>1</td>\n",
       "      <td>3</td>\n",
       "      <td>4</td>\n",
       "    </tr>\n",
       "    <tr>\n",
       "      <td>3</td>\n",
       "      <td>Customer: 1000</td>\n",
       "      <td>369</td>\n",
       "      <td>1.0</td>\n",
       "      <td>47.43</td>\n",
       "      <td>4</td>\n",
       "      <td>4</td>\n",
       "      <td>3</td>\n",
       "    </tr>\n",
       "    <tr>\n",
       "      <td>4</td>\n",
       "      <td>Customer: 10000</td>\n",
       "      <td>119</td>\n",
       "      <td>3.0</td>\n",
       "      <td>98.53</td>\n",
       "      <td>1</td>\n",
       "      <td>2</td>\n",
       "      <td>2</td>\n",
       "    </tr>\n",
       "  </tbody>\n",
       "</table>\n",
       "</div>"
      ],
      "text/plain": [
       "       Customer_Id  Recency  Frequency  Monetary_Value  r_quartile  \\\n",
       "0      Customer: 1      314        2.0          177.45           3   \n",
       "1     Customer: 10      357        6.0          176.44           4   \n",
       "2    Customer: 100      126        2.0           34.56           1   \n",
       "3   Customer: 1000      369        1.0           47.43           4   \n",
       "4  Customer: 10000      119        3.0           98.53           1   \n",
       "\n",
       "   f_quartile  m_quartile  \n",
       "0           3           2  \n",
       "1           1           2  \n",
       "2           3           4  \n",
       "3           4           3  \n",
       "4           2           2  "
      ]
     },
     "execution_count": 60,
     "metadata": {},
     "output_type": "execute_result"
    }
   ],
   "source": [
    "#Add segment numbers to the newly created segmented RFM table\n",
    "segmented_rfm['r_quartile'] = segmented_rfm['Recency'].apply(RScore,args=(quantiles,))\n",
    "segmented_rfm['f_quartile'] = segmented_rfm['Frequency'].apply(FScore,args=(quantiles,))\n",
    "segmented_rfm['m_quartile'] = segmented_rfm['Monetary_Value'].apply(MScore,args=(quantiles,))\n",
    "segmented_rfm.head()"
   ]
  },
  {
   "cell_type": "markdown",
   "metadata": {},
   "source": [
    "# RFM Distribution Plots"
   ]
  },
  {
   "cell_type": "code",
   "execution_count": 61,
   "metadata": {},
   "outputs": [
    {
     "data": {
      "image/png": "[encoded data removed]",
      "text/plain": [
       "<Figure size 864x720 with 3 Axes>"
      ]
     },
     "metadata": {
      "needs_background": "light"
     },
     "output_type": "display_data"
    }
   ],
   "source": [
    "plt.figure(figsize=(12,10))\n",
    "# Plot distribution of Recency\n",
    "plt.subplot(3, 1, 1); sns.distplot(segmented_rfm['Recency'])\n",
    "# Plot distribution of Frequency\n",
    "plt.subplot(3, 1, 2); sns.distplot(segmented_rfm['Frequency'] , bins = 500)\n",
    "plt.xlim(0, 60)\n",
    "# Plot distribution of Monetary_Value\n",
    "plt.subplot(3, 1, 3); sns.distplot(segmented_rfm['Monetary_Value'], bins = 500)\n",
    "plt.xlim(0, 2000)\n",
    "# Show the plot\n",
    "plt.show()"
   ]
  },
  {
   "cell_type": "markdown",
   "metadata": {},
   "source": [
    "# Create RFM Segments"
   ]
  },
  {
   "cell_type": "code",
   "execution_count": 62,
   "metadata": {},
   "outputs": [
    {
     "data": {
      "text/html": [
       "<div>\n",
       "<style scoped>\n",
       "    .dataframe tbody tr th:only-of-type {\n",
       "        vertical-align: middle;\n",
       "    }\n",
       "\n",
       "    .dataframe tbody tr th {\n",
       "        vertical-align: top;\n",
       "    }\n",
       "\n",
       "    .dataframe thead th {\n",
       "        text-align: right;\n",
       "    }\n",
       "</style>\n",
       "<table border=\"1\" class=\"dataframe\">\n",
       "  <thead>\n",
       "    <tr style=\"text-align: right;\">\n",
       "      <th></th>\n",
       "      <th>Customer_Id</th>\n",
       "      <th>Recency</th>\n",
       "      <th>Frequency</th>\n",
       "      <th>Monetary_Value</th>\n",
       "      <th>r_quartile</th>\n",
       "      <th>f_quartile</th>\n",
       "      <th>m_quartile</th>\n",
       "      <th>RFM_Segment</th>\n",
       "    </tr>\n",
       "  </thead>\n",
       "  <tbody>\n",
       "    <tr>\n",
       "      <td>0</td>\n",
       "      <td>Customer: 1</td>\n",
       "      <td>314</td>\n",
       "      <td>2.0</td>\n",
       "      <td>177.45</td>\n",
       "      <td>3</td>\n",
       "      <td>3</td>\n",
       "      <td>2</td>\n",
       "      <td>332</td>\n",
       "    </tr>\n",
       "    <tr>\n",
       "      <td>1</td>\n",
       "      <td>Customer: 10</td>\n",
       "      <td>357</td>\n",
       "      <td>6.0</td>\n",
       "      <td>176.44</td>\n",
       "      <td>4</td>\n",
       "      <td>1</td>\n",
       "      <td>2</td>\n",
       "      <td>412</td>\n",
       "    </tr>\n",
       "    <tr>\n",
       "      <td>2</td>\n",
       "      <td>Customer: 100</td>\n",
       "      <td>126</td>\n",
       "      <td>2.0</td>\n",
       "      <td>34.56</td>\n",
       "      <td>1</td>\n",
       "      <td>3</td>\n",
       "      <td>4</td>\n",
       "      <td>134</td>\n",
       "    </tr>\n",
       "    <tr>\n",
       "      <td>3</td>\n",
       "      <td>Customer: 1000</td>\n",
       "      <td>369</td>\n",
       "      <td>1.0</td>\n",
       "      <td>47.43</td>\n",
       "      <td>4</td>\n",
       "      <td>4</td>\n",
       "      <td>3</td>\n",
       "      <td>443</td>\n",
       "    </tr>\n",
       "    <tr>\n",
       "      <td>4</td>\n",
       "      <td>Customer: 10000</td>\n",
       "      <td>119</td>\n",
       "      <td>3.0</td>\n",
       "      <td>98.53</td>\n",
       "      <td>1</td>\n",
       "      <td>2</td>\n",
       "      <td>2</td>\n",
       "      <td>122</td>\n",
       "    </tr>\n",
       "  </tbody>\n",
       "</table>\n",
       "</div>"
      ],
      "text/plain": [
       "       Customer_Id  Recency  Frequency  Monetary_Value  r_quartile  \\\n",
       "0      Customer: 1      314        2.0          177.45           3   \n",
       "1     Customer: 10      357        6.0          176.44           4   \n",
       "2    Customer: 100      126        2.0           34.56           1   \n",
       "3   Customer: 1000      369        1.0           47.43           4   \n",
       "4  Customer: 10000      119        3.0           98.53           1   \n",
       "\n",
       "   f_quartile  m_quartile RFM_Segment  \n",
       "0           3           2         332  \n",
       "1           1           2         412  \n",
       "2           3           4         134  \n",
       "3           4           3         443  \n",
       "4           2           2         122  "
      ]
     },
     "execution_count": 62,
     "metadata": {},
     "output_type": "execute_result"
    }
   ],
   "source": [
    "#Combine RFM Segment\n",
    "segmented_rfm['RFM_Segment'] = segmented_rfm.r_quartile.map(str)+segmented_rfm.f_quartile.map(str)+segmented_rfm.m_quartile.map(str)\n",
    "segmented_rfm.head()"
   ]
  },
  {
   "cell_type": "markdown",
   "metadata": {},
   "source": [
    "# RFM Score"
   ]
  },
  {
   "cell_type": "code",
   "execution_count": 63,
   "metadata": {},
   "outputs": [
    {
     "data": {
      "text/html": [
       "<div>\n",
       "<style scoped>\n",
       "    .dataframe tbody tr th:only-of-type {\n",
       "        vertical-align: middle;\n",
       "    }\n",
       "\n",
       "    .dataframe tbody tr th {\n",
       "        vertical-align: top;\n",
       "    }\n",
       "\n",
       "    .dataframe thead th {\n",
       "        text-align: right;\n",
       "    }\n",
       "</style>\n",
       "<table border=\"1\" class=\"dataframe\">\n",
       "  <thead>\n",
       "    <tr style=\"text-align: right;\">\n",
       "      <th></th>\n",
       "      <th>Customer_Id</th>\n",
       "      <th>Recency</th>\n",
       "      <th>Frequency</th>\n",
       "      <th>Monetary_Value</th>\n",
       "      <th>r_quartile</th>\n",
       "      <th>f_quartile</th>\n",
       "      <th>m_quartile</th>\n",
       "      <th>RFM_Segment</th>\n",
       "      <th>RFM_Score</th>\n",
       "    </tr>\n",
       "  </thead>\n",
       "  <tbody>\n",
       "    <tr>\n",
       "      <td>0</td>\n",
       "      <td>Customer: 1</td>\n",
       "      <td>314</td>\n",
       "      <td>2.0</td>\n",
       "      <td>177.45</td>\n",
       "      <td>3</td>\n",
       "      <td>3</td>\n",
       "      <td>2</td>\n",
       "      <td>332</td>\n",
       "      <td>8</td>\n",
       "    </tr>\n",
       "    <tr>\n",
       "      <td>1</td>\n",
       "      <td>Customer: 10</td>\n",
       "      <td>357</td>\n",
       "      <td>6.0</td>\n",
       "      <td>176.44</td>\n",
       "      <td>4</td>\n",
       "      <td>1</td>\n",
       "      <td>2</td>\n",
       "      <td>412</td>\n",
       "      <td>7</td>\n",
       "    </tr>\n",
       "    <tr>\n",
       "      <td>2</td>\n",
       "      <td>Customer: 100</td>\n",
       "      <td>126</td>\n",
       "      <td>2.0</td>\n",
       "      <td>34.56</td>\n",
       "      <td>1</td>\n",
       "      <td>3</td>\n",
       "      <td>4</td>\n",
       "      <td>134</td>\n",
       "      <td>8</td>\n",
       "    </tr>\n",
       "    <tr>\n",
       "      <td>3</td>\n",
       "      <td>Customer: 1000</td>\n",
       "      <td>369</td>\n",
       "      <td>1.0</td>\n",
       "      <td>47.43</td>\n",
       "      <td>4</td>\n",
       "      <td>4</td>\n",
       "      <td>3</td>\n",
       "      <td>443</td>\n",
       "      <td>11</td>\n",
       "    </tr>\n",
       "    <tr>\n",
       "      <td>4</td>\n",
       "      <td>Customer: 10000</td>\n",
       "      <td>119</td>\n",
       "      <td>3.0</td>\n",
       "      <td>98.53</td>\n",
       "      <td>1</td>\n",
       "      <td>2</td>\n",
       "      <td>2</td>\n",
       "      <td>122</td>\n",
       "      <td>5</td>\n",
       "    </tr>\n",
       "  </tbody>\n",
       "</table>\n",
       "</div>"
      ],
      "text/plain": [
       "       Customer_Id  Recency  Frequency  Monetary_Value  r_quartile  \\\n",
       "0      Customer: 1      314        2.0          177.45           3   \n",
       "1     Customer: 10      357        6.0          176.44           4   \n",
       "2    Customer: 100      126        2.0           34.56           1   \n",
       "3   Customer: 1000      369        1.0           47.43           4   \n",
       "4  Customer: 10000      119        3.0           98.53           1   \n",
       "\n",
       "   f_quartile  m_quartile RFM_Segment  RFM_Score  \n",
       "0           3           2         332          8  \n",
       "1           1           2         412          7  \n",
       "2           3           4         134          8  \n",
       "3           4           3         443         11  \n",
       "4           2           2         122          5  "
      ]
     },
     "execution_count": 63,
     "metadata": {},
     "output_type": "execute_result"
    }
   ],
   "source": [
    "# Summing the Score\n",
    "# Calculate RFM_Score\n",
    "segmented_rfm['RFM_Score'] = segmented_rfm[['r_quartile','f_quartile','m_quartile']].sum(axis=1)\n",
    "segmented_rfm.head()"
   ]
  },
  {
   "cell_type": "code",
   "execution_count": 64,
   "metadata": {},
   "outputs": [
    {
     "name": "stdout",
     "output_type": "stream",
     "text": [
      "64\n"
     ]
    }
   ],
   "source": [
    "# Count number of unique segments(RFM_Segment)\n",
    "rfm_count_unique = segmented_rfm.groupby('RFM_Segment')['RFM_Segment'].nunique()\n",
    "print(rfm_count_unique.sum())"
   ]
  },
  {
   "cell_type": "code",
   "execution_count": 65,
   "metadata": {},
   "outputs": [
    {
     "data": {
      "text/plain": [
       "Customer_Id       338190\n",
       "Recency              423\n",
       "Frequency            100\n",
       "Monetary_Value     75081\n",
       "r_quartile             4\n",
       "f_quartile             4\n",
       "m_quartile             4\n",
       "RFM_Segment           64\n",
       "RFM_Score             10\n",
       "dtype: int64"
      ]
     },
     "execution_count": 65,
     "metadata": {},
     "output_type": "execute_result"
    }
   ],
   "source": [
    "segmented_rfm.nunique()"
   ]
  },
  {
   "cell_type": "markdown",
   "metadata": {},
   "source": [
    "# Top 10 Best Customers"
   ]
  },
  {
   "cell_type": "code",
   "execution_count": 66,
   "metadata": {},
   "outputs": [
    {
     "data": {
      "text/html": [
       "<div>\n",
       "<style scoped>\n",
       "    .dataframe tbody tr th:only-of-type {\n",
       "        vertical-align: middle;\n",
       "    }\n",
       "\n",
       "    .dataframe tbody tr th {\n",
       "        vertical-align: top;\n",
       "    }\n",
       "\n",
       "    .dataframe thead th {\n",
       "        text-align: right;\n",
       "    }\n",
       "</style>\n",
       "<table border=\"1\" class=\"dataframe\">\n",
       "  <thead>\n",
       "    <tr style=\"text-align: right;\">\n",
       "      <th></th>\n",
       "      <th>Customer_Id</th>\n",
       "      <th>Recency</th>\n",
       "      <th>Frequency</th>\n",
       "      <th>Monetary_Value</th>\n",
       "      <th>r_quartile</th>\n",
       "      <th>f_quartile</th>\n",
       "      <th>m_quartile</th>\n",
       "      <th>RFM_Segment</th>\n",
       "      <th>RFM_Score</th>\n",
       "    </tr>\n",
       "  </thead>\n",
       "  <tbody>\n",
       "    <tr>\n",
       "      <td>16455</td>\n",
       "      <td>Customer: 114807</td>\n",
       "      <td>120</td>\n",
       "      <td>182.0</td>\n",
       "      <td>27211.48</td>\n",
       "      <td>1</td>\n",
       "      <td>1</td>\n",
       "      <td>1</td>\n",
       "      <td>111</td>\n",
       "      <td>3</td>\n",
       "    </tr>\n",
       "    <tr>\n",
       "      <td>328338</td>\n",
       "      <td>Customer: 91130</td>\n",
       "      <td>113</td>\n",
       "      <td>580.0</td>\n",
       "      <td>23796.78</td>\n",
       "      <td>1</td>\n",
       "      <td>1</td>\n",
       "      <td>1</td>\n",
       "      <td>111</td>\n",
       "      <td>3</td>\n",
       "    </tr>\n",
       "    <tr>\n",
       "      <td>53869</td>\n",
       "      <td>Customer: 148480</td>\n",
       "      <td>121</td>\n",
       "      <td>42.0</td>\n",
       "      <td>22455.60</td>\n",
       "      <td>1</td>\n",
       "      <td>1</td>\n",
       "      <td>1</td>\n",
       "      <td>111</td>\n",
       "      <td>3</td>\n",
       "    </tr>\n",
       "    <tr>\n",
       "      <td>34160</td>\n",
       "      <td>Customer: 130741</td>\n",
       "      <td>131</td>\n",
       "      <td>51.0</td>\n",
       "      <td>9867.15</td>\n",
       "      <td>1</td>\n",
       "      <td>1</td>\n",
       "      <td>1</td>\n",
       "      <td>111</td>\n",
       "      <td>3</td>\n",
       "    </tr>\n",
       "    <tr>\n",
       "      <td>275370</td>\n",
       "      <td>Customer: 4346</td>\n",
       "      <td>116</td>\n",
       "      <td>192.0</td>\n",
       "      <td>9725.61</td>\n",
       "      <td>1</td>\n",
       "      <td>1</td>\n",
       "      <td>1</td>\n",
       "      <td>111</td>\n",
       "      <td>3</td>\n",
       "    </tr>\n",
       "    <tr>\n",
       "      <td>273846</td>\n",
       "      <td>Customer: 42088</td>\n",
       "      <td>132</td>\n",
       "      <td>120.0</td>\n",
       "      <td>8392.08</td>\n",
       "      <td>1</td>\n",
       "      <td>1</td>\n",
       "      <td>1</td>\n",
       "      <td>111</td>\n",
       "      <td>3</td>\n",
       "    </tr>\n",
       "    <tr>\n",
       "      <td>321306</td>\n",
       "      <td>Customer: 84802</td>\n",
       "      <td>122</td>\n",
       "      <td>57.0</td>\n",
       "      <td>7618.65</td>\n",
       "      <td>1</td>\n",
       "      <td>1</td>\n",
       "      <td>1</td>\n",
       "      <td>111</td>\n",
       "      <td>3</td>\n",
       "    </tr>\n",
       "    <tr>\n",
       "      <td>73950</td>\n",
       "      <td>Customer: 166553</td>\n",
       "      <td>158</td>\n",
       "      <td>66.0</td>\n",
       "      <td>7609.50</td>\n",
       "      <td>1</td>\n",
       "      <td>1</td>\n",
       "      <td>1</td>\n",
       "      <td>111</td>\n",
       "      <td>3</td>\n",
       "    </tr>\n",
       "    <tr>\n",
       "      <td>274891</td>\n",
       "      <td>Customer: 43028</td>\n",
       "      <td>117</td>\n",
       "      <td>45.0</td>\n",
       "      <td>6357.84</td>\n",
       "      <td>1</td>\n",
       "      <td>1</td>\n",
       "      <td>1</td>\n",
       "      <td>111</td>\n",
       "      <td>3</td>\n",
       "    </tr>\n",
       "    <tr>\n",
       "      <td>61594</td>\n",
       "      <td>Customer: 155432</td>\n",
       "      <td>109</td>\n",
       "      <td>232.0</td>\n",
       "      <td>5834.36</td>\n",
       "      <td>1</td>\n",
       "      <td>1</td>\n",
       "      <td>1</td>\n",
       "      <td>111</td>\n",
       "      <td>3</td>\n",
       "    </tr>\n",
       "  </tbody>\n",
       "</table>\n",
       "</div>"
      ],
      "text/plain": [
       "             Customer_Id  Recency  Frequency  Monetary_Value  r_quartile  \\\n",
       "16455   Customer: 114807      120      182.0        27211.48           1   \n",
       "328338   Customer: 91130      113      580.0        23796.78           1   \n",
       "53869   Customer: 148480      121       42.0        22455.60           1   \n",
       "34160   Customer: 130741      131       51.0         9867.15           1   \n",
       "275370    Customer: 4346      116      192.0         9725.61           1   \n",
       "273846   Customer: 42088      132      120.0         8392.08           1   \n",
       "321306   Customer: 84802      122       57.0         7618.65           1   \n",
       "73950   Customer: 166553      158       66.0         7609.50           1   \n",
       "274891   Customer: 43028      117       45.0         6357.84           1   \n",
       "61594   Customer: 155432      109      232.0         5834.36           1   \n",
       "\n",
       "        f_quartile  m_quartile RFM_Segment  RFM_Score  \n",
       "16455            1           1         111          3  \n",
       "328338           1           1         111          3  \n",
       "53869            1           1         111          3  \n",
       "34160            1           1         111          3  \n",
       "275370           1           1         111          3  \n",
       "273846           1           1         111          3  \n",
       "321306           1           1         111          3  \n",
       "73950            1           1         111          3  \n",
       "274891           1           1         111          3  \n",
       "61594            1           1         111          3  "
      ]
     },
     "execution_count": 66,
     "metadata": {},
     "output_type": "execute_result"
    }
   ],
   "source": [
    "#Who are the top 10 of our best customers!\n",
    "segmented_rfm[segmented_rfm['RFM_Segment']=='111'].sort_values('Monetary_Value', ascending=False).head(10)"
   ]
  },
  {
   "cell_type": "code",
   "execution_count": 67,
   "metadata": {},
   "outputs": [
    {
     "data": {
      "text/html": [
       "<div>\n",
       "<style scoped>\n",
       "    .dataframe tbody tr th:only-of-type {\n",
       "        vertical-align: middle;\n",
       "    }\n",
       "\n",
       "    .dataframe tbody tr th {\n",
       "        vertical-align: top;\n",
       "    }\n",
       "\n",
       "    .dataframe thead th {\n",
       "        text-align: right;\n",
       "    }\n",
       "</style>\n",
       "<table border=\"1\" class=\"dataframe\">\n",
       "  <thead>\n",
       "    <tr style=\"text-align: right;\">\n",
       "      <th></th>\n",
       "      <th>Customer_Id</th>\n",
       "      <th>Recency</th>\n",
       "      <th>Frequency</th>\n",
       "      <th>Monetary_Value</th>\n",
       "      <th>r_quartile</th>\n",
       "      <th>f_quartile</th>\n",
       "      <th>m_quartile</th>\n",
       "      <th>RFM_Segment</th>\n",
       "      <th>RFM_Score</th>\n",
       "    </tr>\n",
       "  </thead>\n",
       "  <tbody>\n",
       "    <tr>\n",
       "      <td>0</td>\n",
       "      <td>Customer: 1</td>\n",
       "      <td>314</td>\n",
       "      <td>2.0</td>\n",
       "      <td>177.45</td>\n",
       "      <td>3</td>\n",
       "      <td>3</td>\n",
       "      <td>2</td>\n",
       "      <td>332</td>\n",
       "      <td>8</td>\n",
       "    </tr>\n",
       "    <tr>\n",
       "      <td>1</td>\n",
       "      <td>Customer: 10</td>\n",
       "      <td>357</td>\n",
       "      <td>6.0</td>\n",
       "      <td>176.44</td>\n",
       "      <td>4</td>\n",
       "      <td>1</td>\n",
       "      <td>2</td>\n",
       "      <td>412</td>\n",
       "      <td>7</td>\n",
       "    </tr>\n",
       "    <tr>\n",
       "      <td>2</td>\n",
       "      <td>Customer: 100</td>\n",
       "      <td>126</td>\n",
       "      <td>2.0</td>\n",
       "      <td>34.56</td>\n",
       "      <td>1</td>\n",
       "      <td>3</td>\n",
       "      <td>4</td>\n",
       "      <td>134</td>\n",
       "      <td>8</td>\n",
       "    </tr>\n",
       "  </tbody>\n",
       "</table>\n",
       "</div>"
      ],
      "text/plain": [
       "     Customer_Id  Recency  Frequency  Monetary_Value  r_quartile  f_quartile  \\\n",
       "0    Customer: 1      314        2.0          177.45           3           3   \n",
       "1   Customer: 10      357        6.0          176.44           4           1   \n",
       "2  Customer: 100      126        2.0           34.56           1           3   \n",
       "\n",
       "   m_quartile RFM_Segment  RFM_Score  \n",
       "0           2         332          8  \n",
       "1           2         412          7  \n",
       "2           4         134          8  "
      ]
     },
     "execution_count": 67,
     "metadata": {},
     "output_type": "execute_result"
    }
   ],
   "source": [
    "segmented_rfm.head(3)"
   ]
  },
  {
   "cell_type": "code",
   "execution_count": 68,
   "metadata": {},
   "outputs": [
    {
     "name": "stdout",
     "output_type": "stream",
     "text": [
      "<class 'pandas.core.frame.DataFrame'>\n",
      "RangeIndex: 338190 entries, 0 to 338189\n",
      "Data columns (total 9 columns):\n",
      "Customer_Id       338190 non-null object\n",
      "Recency           338190 non-null int64\n",
      "Frequency         338190 non-null float64\n",
      "Monetary_Value    338190 non-null float64\n",
      "r_quartile        338190 non-null int64\n",
      "f_quartile        338190 non-null int64\n",
      "m_quartile        338190 non-null int64\n",
      "RFM_Segment       338190 non-null object\n",
      "RFM_Score         338190 non-null int64\n",
      "dtypes: float64(2), int64(5), object(2)\n",
      "memory usage: 23.2+ MB\n"
     ]
    }
   ],
   "source": [
    "segmented_rfm.info()"
   ]
  },
  {
   "cell_type": "markdown",
   "metadata": {},
   "source": [
    "# Segment Level"
   ]
  },
  {
   "cell_type": "code",
   "execution_count": 69,
   "metadata": {},
   "outputs": [
    {
     "data": {
      "text/html": [
       "<div>\n",
       "<style scoped>\n",
       "    .dataframe tbody tr th:only-of-type {\n",
       "        vertical-align: middle;\n",
       "    }\n",
       "\n",
       "    .dataframe tbody tr th {\n",
       "        vertical-align: top;\n",
       "    }\n",
       "\n",
       "    .dataframe thead th {\n",
       "        text-align: right;\n",
       "    }\n",
       "</style>\n",
       "<table border=\"1\" class=\"dataframe\">\n",
       "  <thead>\n",
       "    <tr style=\"text-align: right;\">\n",
       "      <th></th>\n",
       "      <th>Customer_Id</th>\n",
       "      <th>Recency</th>\n",
       "      <th>Frequency</th>\n",
       "      <th>Monetary_Value</th>\n",
       "      <th>r_quartile</th>\n",
       "      <th>f_quartile</th>\n",
       "      <th>m_quartile</th>\n",
       "      <th>RFM_Segment</th>\n",
       "      <th>RFM_Score</th>\n",
       "      <th>Segment_Level</th>\n",
       "    </tr>\n",
       "  </thead>\n",
       "  <tbody>\n",
       "    <tr>\n",
       "      <td>0</td>\n",
       "      <td>Customer: 1</td>\n",
       "      <td>314</td>\n",
       "      <td>2.0</td>\n",
       "      <td>177.45</td>\n",
       "      <td>3</td>\n",
       "      <td>3</td>\n",
       "      <td>2</td>\n",
       "      <td>332</td>\n",
       "      <td>8</td>\n",
       "      <td>About to Sleep</td>\n",
       "    </tr>\n",
       "    <tr>\n",
       "      <td>1</td>\n",
       "      <td>Customer: 10</td>\n",
       "      <td>357</td>\n",
       "      <td>6.0</td>\n",
       "      <td>176.44</td>\n",
       "      <td>4</td>\n",
       "      <td>1</td>\n",
       "      <td>2</td>\n",
       "      <td>412</td>\n",
       "      <td>7</td>\n",
       "      <td>Others</td>\n",
       "    </tr>\n",
       "    <tr>\n",
       "      <td>2</td>\n",
       "      <td>Customer: 100</td>\n",
       "      <td>126</td>\n",
       "      <td>2.0</td>\n",
       "      <td>34.56</td>\n",
       "      <td>1</td>\n",
       "      <td>3</td>\n",
       "      <td>4</td>\n",
       "      <td>134</td>\n",
       "      <td>8</td>\n",
       "      <td>Others</td>\n",
       "    </tr>\n",
       "    <tr>\n",
       "      <td>3</td>\n",
       "      <td>Customer: 1000</td>\n",
       "      <td>369</td>\n",
       "      <td>1.0</td>\n",
       "      <td>47.43</td>\n",
       "      <td>4</td>\n",
       "      <td>4</td>\n",
       "      <td>3</td>\n",
       "      <td>443</td>\n",
       "      <td>11</td>\n",
       "      <td>Hibernating</td>\n",
       "    </tr>\n",
       "    <tr>\n",
       "      <td>4</td>\n",
       "      <td>Customer: 10000</td>\n",
       "      <td>119</td>\n",
       "      <td>3.0</td>\n",
       "      <td>98.53</td>\n",
       "      <td>1</td>\n",
       "      <td>2</td>\n",
       "      <td>2</td>\n",
       "      <td>122</td>\n",
       "      <td>5</td>\n",
       "      <td>Promising</td>\n",
       "    </tr>\n",
       "  </tbody>\n",
       "</table>\n",
       "</div>"
      ],
      "text/plain": [
       "       Customer_Id  Recency  Frequency  Monetary_Value  r_quartile  \\\n",
       "0      Customer: 1      314        2.0          177.45           3   \n",
       "1     Customer: 10      357        6.0          176.44           4   \n",
       "2    Customer: 100      126        2.0           34.56           1   \n",
       "3   Customer: 1000      369        1.0           47.43           4   \n",
       "4  Customer: 10000      119        3.0           98.53           1   \n",
       "\n",
       "   f_quartile  m_quartile RFM_Segment  RFM_Score   Segment_Level  \n",
       "0           3           2         332          8  About to Sleep  \n",
       "1           1           2         412          7          Others  \n",
       "2           3           4         134          8          Others  \n",
       "3           4           3         443         11     Hibernating  \n",
       "4           2           2         122          5       Promising  "
      ]
     },
     "execution_count": 69,
     "metadata": {},
     "output_type": "execute_result"
    }
   ],
   "source": [
    "# Define Segment_Level function\n",
    "def Segment_Level(segmented_rfm):\n",
    "    if (segmented_rfm['RFM_Segment'] == '111'):\n",
    "        return 'Champions'\n",
    "    \n",
    "    elif segmented_rfm['RFM_Segment'] in ['112','211','121']: \n",
    "        return 'Loyal Customers' \n",
    "    \n",
    "    elif segmented_rfm['RFM_Segment'] in ['131','141']: \n",
    "        return 'Potential Loyalist' \n",
    "    \n",
    "    elif segmented_rfm['RFM_Segment'] in ['142','143','144']: \n",
    "        return 'Recent Customers'   \n",
    "    \n",
    "    elif segmented_rfm['RFM_Segment'] in ['221','222','122','212','123','132','213','231','321','312','223','322','232']: \n",
    "        return 'Promising'\n",
    "    \n",
    "    elif segmented_rfm['RFM_Segment'] in ['431','341']: \n",
    "        return 'Needs Attention'\n",
    "    \n",
    "    elif segmented_rfm['RFM_Segment'] in ['332','333','331','313','323','343','233']: \n",
    "        return 'About to Sleep'\n",
    "    \n",
    "    elif segmented_rfm['RFM_Segment'] in ['114','113','124','213','214']: \n",
    "        return 'Price Sensitive'\n",
    "    \n",
    "    elif segmented_rfm['RFM_Segment'] in ['411','421','311']: \n",
    "        return 'Cant Lose Them'\n",
    "    \n",
    "    elif segmented_rfm['RFM_Segment'] in ['433','434' ,'443','344', '334']: \n",
    "        return 'Hibernating'\n",
    "    \n",
    "    elif segmented_rfm['RFM_Segment'] in ['444']: \n",
    "        return 'Lost'\n",
    "    \n",
    "    else:\n",
    "        return 'Others'\n",
    "               \n",
    "    \n",
    "# Create a new variable RFM_Level\n",
    "segmented_rfm['Segment_Level'] = segmented_rfm.apply(Segment_Level, axis=1)\n",
    "\n",
    "\n",
    "# Print the header with top 5 rows to the console\n",
    "segmented_rfm.head()"
   ]
  },
  {
   "cell_type": "code",
   "execution_count": 70,
   "metadata": {},
   "outputs": [],
   "source": [
    "segmented_rfm.to_csv('segmented_rfm.csv')"
   ]
  },
  {
   "cell_type": "code",
   "execution_count": 71,
   "metadata": {},
   "outputs": [
    {
     "name": "stdout",
     "output_type": "stream",
     "text": [
      "                   Recency Frequency Monetary_Value       \n",
      "                      mean      mean           mean  count\n",
      "Segment_Level                                             \n",
      "About to Sleep       291.7       1.9          105.9  45026\n",
      "Cant Lose Them       344.6       6.3          450.2  18396\n",
      "Champions            128.8       9.6          537.8  17564\n",
      "Hibernating          367.2       1.4           44.2  50154\n",
      "Lost                 424.5       1.0           26.4  18388\n",
      "Loyal Customers      191.2       7.2          414.7  25831\n",
      "Needs Attention      394.0       1.9          304.0   7371\n",
      "Others               274.1       1.7           86.4  73954\n",
      "Potential Loyalist   131.0       1.9          286.6   5325\n",
      "Price Sensitive      136.5       4.3           55.5   2844\n",
      "Promising            210.4       3.0          160.9  48355\n",
      "Recent Customers     128.0       1.0           55.5  24982\n"
     ]
    }
   ],
   "source": [
    "# Calculate average values for each Segment_Name, and return a size of each segment \n",
    "rfm_level_agg = segmented_rfm.groupby('Segment_Level').agg({\n",
    "    'Recency': 'mean',\n",
    "    'Frequency': 'mean',\n",
    "    'Monetary_Value': ['mean', 'count']\n",
    "}).round(1)\n",
    "\n",
    "# Print the aggregated dataset\n",
    "print(rfm_level_agg)"
   ]
  },
  {
   "cell_type": "code",
   "execution_count": 72,
   "metadata": {},
   "outputs": [],
   "source": [
    "rfm_level_agg.columns = rfm_level_agg.columns.droplevel()"
   ]
  },
  {
   "cell_type": "code",
   "execution_count": 73,
   "metadata": {},
   "outputs": [
    {
     "name": "stdout",
     "output_type": "stream",
     "text": [
      "                     mean  mean   mean  count\n",
      "Segment_Level                                \n",
      "About to Sleep      291.7   1.9  105.9  45026\n",
      "Cant Lose Them      344.6   6.3  450.2  18396\n",
      "Champions           128.8   9.6  537.8  17564\n",
      "Hibernating         367.2   1.4   44.2  50154\n",
      "Lost                424.5   1.0   26.4  18388\n",
      "Loyal Customers     191.2   7.2  414.7  25831\n",
      "Needs Attention     394.0   1.9  304.0   7371\n",
      "Others              274.1   1.7   86.4  73954\n",
      "Potential Loyalist  131.0   1.9  286.6   5325\n",
      "Price Sensitive     136.5   4.3   55.5   2844\n",
      "Promising           210.4   3.0  160.9  48355\n",
      "Recent Customers    128.0   1.0   55.5  24982\n"
     ]
    }
   ],
   "source": [
    "print(rfm_level_agg)"
   ]
  },
  {
   "cell_type": "code",
   "execution_count": 74,
   "metadata": {},
   "outputs": [],
   "source": [
    "rfm_level_agg.columns = ['RecencyMean','FrequencyMean','MonetaryMean', 'Count']"
   ]
  },
  {
   "cell_type": "code",
   "execution_count": 75,
   "metadata": {},
   "outputs": [
    {
     "name": "stdout",
     "output_type": "stream",
     "text": [
      "                    RecencyMean  FrequencyMean  MonetaryMean  Count\n",
      "Segment_Level                                                      \n",
      "About to Sleep            291.7            1.9         105.9  45026\n",
      "Cant Lose Them            344.6            6.3         450.2  18396\n",
      "Champions                 128.8            9.6         537.8  17564\n",
      "Hibernating               367.2            1.4          44.2  50154\n",
      "Lost                      424.5            1.0          26.4  18388\n",
      "Loyal Customers           191.2            7.2         414.7  25831\n",
      "Needs Attention           394.0            1.9         304.0   7371\n",
      "Others                    274.1            1.7          86.4  73954\n",
      "Potential Loyalist        131.0            1.9         286.6   5325\n",
      "Price Sensitive           136.5            4.3          55.5   2844\n",
      "Promising                 210.4            3.0         160.9  48355\n",
      "Recent Customers          128.0            1.0          55.5  24982\n"
     ]
    }
   ],
   "source": [
    "print(rfm_level_agg)"
   ]
  },
  {
   "cell_type": "markdown",
   "metadata": {},
   "source": [
    "# Plot the Heat Map"
   ]
  },
  {
   "cell_type": "code",
   "execution_count": 76,
   "metadata": {},
   "outputs": [
    {
     "data": {
      "image/png": "[encoded data removed]",
      "text/plain": [
       "<Figure size 1080x360 with 1 Axes>"
      ]
     },
     "metadata": {
      "needs_background": "light"
     },
     "output_type": "display_data"
    }
   ],
   "source": [
    "#Create the plot\n",
    "fig = plt.gcf()\n",
    "ax = fig.add_subplot()\n",
    "fig.set_size_inches(15, 5)\n",
    "\n",
    "squarify.plot(sizes=rfm_level_agg['Count'], \n",
    "              label=['About to Sleep ',\n",
    "                     'Cant Lose Them ',\n",
    "                     'Champions',\n",
    "                     'Hibernating',\n",
    "                     'Lost', \n",
    "                     'Loyal Customers', \n",
    "                     'Needs Attention',\n",
    "                     'Others',\n",
    "                     'Potential Loyalist', \n",
    "                     'Price Sensitive',\n",
    "                     'Promising',\n",
    "                     'Recent Customers'],color=[\"orange\",\"blue\",\"green\",\"grey\",\"red\",\"yellow\",\"Aqua\",\"Pink\",\"Teal\",\"Gold\",\"violet\",\"navy\"],alpha=.8 )\n",
    "\n",
    "plt.title(\"RFM Segments\",fontsize=25,fontweight=\"bold\")\n",
    "plt.axis('off')\n",
    "plt.show()\n"
   ]
  },
  {
   "cell_type": "code",
   "execution_count": null,
   "metadata": {},
   "outputs": [],
   "source": []
  },
  {
   "cell_type": "code",
   "execution_count": null,
   "metadata": {},
   "outputs": [],
   "source": []
  },
  {
   "cell_type": "code",
   "execution_count": null,
   "metadata": {},
   "outputs": [],
   "source": []
  },
  {
   "cell_type": "code",
   "execution_count": null,
   "metadata": {},
   "outputs": [],
   "source": []
  },
  {
   "cell_type": "code",
   "execution_count": null,
   "metadata": {},
   "outputs": [],
   "source": []
  },
  {
   "cell_type": "code",
   "execution_count": null,
   "metadata": {},
   "outputs": [],
   "source": []
  }
 ],
 "metadata": {
  "kernelspec": {
   "display_name": "Python 3",
   "language": "python",
   "name": "python3"
  },
  "language_info": {
   "codemirror_mode": {
    "name": "ipython",
    "version": 3
   },
   "file_extension": ".py",
   "mimetype": "text/x-python",
   "name": "python",
   "nbconvert_exporter": "python",
   "pygments_lexer": "ipython3",
   "version": "3.7.4"
  }
 },
 "nbformat": 4,
 "nbformat_minor": 2
}
