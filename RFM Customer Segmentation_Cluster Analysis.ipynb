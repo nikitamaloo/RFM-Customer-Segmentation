{
 "cells": [
  {
   "cell_type": "markdown",
   "metadata": {},
   "source": [
    "# Import libraries"
   ]
  },
  {
   "cell_type": "code",
   "execution_count": 6,
   "metadata": {},
   "outputs": [],
   "source": [
    "# Import libraries\n",
    "import pandas as pd\n",
    "from datetime import timedelta\n",
    "import matplotlib.pyplot as plt\n",
    "import seaborn as sns\n",
    "%matplotlib inline\n",
    "import squarify"
   ]
  },
  {
   "cell_type": "markdown",
   "metadata": {},
   "source": [
    "# Import Data"
   ]
  },
  {
   "cell_type": "code",
   "execution_count": 7,
   "metadata": {},
   "outputs": [],
   "source": [
    "#Import Data\n",
    "purchase= pd.read_csv(\"/Users/nikita.maloo/Desktop/P/RFM-Customer-Segmentation/purchase_data.csv\" ,index_col=0)"
   ]
  },
  {
   "cell_type": "code",
   "execution_count": 8,
   "metadata": {},
   "outputs": [
    {
     "data": {
      "text/html": [
       "<div>\n",
       "<style scoped>\n",
       "    .dataframe tbody tr th:only-of-type {\n",
       "        vertical-align: middle;\n",
       "    }\n",
       "\n",
       "    .dataframe tbody tr th {\n",
       "        vertical-align: top;\n",
       "    }\n",
       "\n",
       "    .dataframe thead th {\n",
       "        text-align: right;\n",
       "    }\n",
       "</style>\n",
       "<table border=\"1\" class=\"dataframe\">\n",
       "  <thead>\n",
       "    <tr style=\"text-align: right;\">\n",
       "      <th></th>\n",
       "      <th>Invoice_Id</th>\n",
       "      <th>Amount</th>\n",
       "      <th>Purchase_Date</th>\n",
       "      <th>Customer_Id</th>\n",
       "    </tr>\n",
       "  </thead>\n",
       "  <tbody>\n",
       "    <tr>\n",
       "      <td>0</td>\n",
       "      <td>272352054.0</td>\n",
       "      <td>140.01</td>\n",
       "      <td>2019-05-05</td>\n",
       "      <td>Customer: 1</td>\n",
       "    </tr>\n",
       "    <tr>\n",
       "      <td>1</td>\n",
       "      <td>299813385.0</td>\n",
       "      <td>37.44</td>\n",
       "      <td>2019-11-16</td>\n",
       "      <td>Customer: 1</td>\n",
       "    </tr>\n",
       "    <tr>\n",
       "      <td>2</td>\n",
       "      <td>313339477.0</td>\n",
       "      <td>26.93</td>\n",
       "      <td>2020-03-06</td>\n",
       "      <td>Customer: 2</td>\n",
       "    </tr>\n",
       "    <tr>\n",
       "      <td>3</td>\n",
       "      <td>315150354.0</td>\n",
       "      <td>27.40</td>\n",
       "      <td>2020-03-22</td>\n",
       "      <td>Customer: 2</td>\n",
       "    </tr>\n",
       "    <tr>\n",
       "      <td>4</td>\n",
       "      <td>305737473.0</td>\n",
       "      <td>28.42</td>\n",
       "      <td>2019-12-13</td>\n",
       "      <td>Customer: 3</td>\n",
       "    </tr>\n",
       "  </tbody>\n",
       "</table>\n",
       "</div>"
      ],
      "text/plain": [
       "    Invoice_Id  Amount Purchase_Date  Customer_Id\n",
       "0  272352054.0  140.01    2019-05-05  Customer: 1\n",
       "1  299813385.0   37.44    2019-11-16  Customer: 1\n",
       "2  313339477.0   26.93    2020-03-06  Customer: 2\n",
       "3  315150354.0   27.40    2020-03-22  Customer: 2\n",
       "4  305737473.0   28.42    2019-12-13  Customer: 3"
      ]
     },
     "execution_count": 8,
     "metadata": {},
     "output_type": "execute_result"
    }
   ],
   "source": [
    "purchase.head()"
   ]
  },
  {
   "cell_type": "code",
   "execution_count": 9,
   "metadata": {},
   "outputs": [
    {
     "data": {
      "text/plain": [
       "(971102, 4)"
      ]
     },
     "execution_count": 9,
     "metadata": {},
     "output_type": "execute_result"
    }
   ],
   "source": [
    "purchase.shape"
   ]
  },
  {
   "cell_type": "code",
   "execution_count": 10,
   "metadata": {},
   "outputs": [
    {
     "name": "stdout",
     "output_type": "stream",
     "text": [
      "Invoice_Id  : 644545\n",
      "Amount  : 30214\n",
      "Purchase_Date  : 423\n",
      "Customer_Id  : 338190\n"
     ]
    }
   ],
   "source": [
    "#Check unique number of values for each column\n",
    "def unique_counts(purchase):\n",
    "    for i in purchase.columns:\n",
    "        count = purchase[i].nunique()\n",
    "        print(i,\" :\", count)\n",
    "unique_counts(purchase)"
   ]
  },
  {
   "cell_type": "code",
   "execution_count": 11,
   "metadata": {},
   "outputs": [
    {
     "data": {
      "text/plain": [
       "Invoice_Id       644545\n",
       "Amount            30214\n",
       "Purchase_Date       423\n",
       "Customer_Id      338190\n",
       "dtype: int64"
      ]
     },
     "execution_count": 11,
     "metadata": {},
     "output_type": "execute_result"
    }
   ],
   "source": [
    "#Easy way to check the number of unique values\n",
    "purchase.nunique()"
   ]
  },
  {
   "cell_type": "code",
   "execution_count": 12,
   "metadata": {},
   "outputs": [
    {
     "name": "stdout",
     "output_type": "stream",
     "text": [
      "<class 'pandas.core.frame.DataFrame'>\n",
      "Int64Index: 971102 entries, 0 to 971101\n",
      "Data columns (total 4 columns):\n",
      "Invoice_Id       970778 non-null float64\n",
      "Amount           971102 non-null float64\n",
      "Purchase_Date    971102 non-null object\n",
      "Customer_Id      971102 non-null object\n",
      "dtypes: float64(2), object(2)\n",
      "memory usage: 37.0+ MB\n"
     ]
    }
   ],
   "source": [
    "#Check all the data types\n",
    "purchase.info()"
   ]
  },
  {
   "cell_type": "code",
   "execution_count": 13,
   "metadata": {},
   "outputs": [],
   "source": [
    "#Converting the 'Purchase_Date' type into datetime\n",
    "purchase['Purchase_Date'] = pd.to_datetime(purchase['Purchase_Date'])"
   ]
  },
  {
   "cell_type": "code",
   "execution_count": 14,
   "metadata": {},
   "outputs": [
    {
     "data": {
      "text/plain": [
       "Invoice_Id              float64\n",
       "Amount                  float64\n",
       "Purchase_Date    datetime64[ns]\n",
       "Customer_Id              object\n",
       "dtype: object"
      ]
     },
     "execution_count": 14,
     "metadata": {},
     "output_type": "execute_result"
    }
   ],
   "source": [
    "purchase.dtypes"
   ]
  },
  {
   "cell_type": "markdown",
   "metadata": {},
   "source": [
    "# RFM Customer Segmentation"
   ]
  },
  {
   "cell_type": "code",
   "execution_count": 15,
   "metadata": {},
   "outputs": [
    {
     "name": "stdout",
     "output_type": "stream",
     "text": [
      "2020-06-18\n"
     ]
    }
   ],
   "source": [
    "#RFM segmentation starts from here\n",
    "from datetime import date\n",
    "now = date.today()\n",
    "print(now)"
   ]
  },
  {
   "cell_type": "markdown",
   "metadata": {},
   "source": [
    "# RFM Table"
   ]
  },
  {
   "cell_type": "code",
   "execution_count": null,
   "metadata": {},
   "outputs": [],
   "source": [
    "#create a RFM table\n",
    "rfmTable = purchase.groupby('Customer_Id').agg({'Purchase_Date': \n",
    "                                                           lambda Date:(now - Date.max().date()).days,\n",
    "                                                            'Invoice_Id': lambda x: len(x),\n",
    "                                                            'Amount': lambda Amount: Amount.sum()})"
   ]
  },
  {
   "cell_type": "code",
   "execution_count": null,
   "metadata": {},
   "outputs": [],
   "source": [
    "rfmTable.head(3)"
   ]
  },
  {
   "cell_type": "code",
   "execution_count": null,
   "metadata": {},
   "outputs": [],
   "source": [
    "rfmTable.reset_index(inplace=True)"
   ]
  },
  {
   "cell_type": "markdown",
   "metadata": {},
   "source": [
    "# Recency , Frequency & Monetary Value"
   ]
  },
  {
   "cell_type": "code",
   "execution_count": null,
   "metadata": {},
   "outputs": [],
   "source": [
    "#Renaming the columns to the appropriate names\n",
    "#Recency — number of days since the last purchase\n",
    "#Frequency — number of transactions made over a given period\n",
    "#Monetary — amount spent over a given period of time\n",
    "rfmTable.rename(columns = {'Purchase_Date' : 'Recency',\n",
    "                           'Invoice_Id' : 'Frequency',\n",
    "                           'Amount' : 'Monetary_Value'},inplace = True) "
   ]
  },
  {
   "cell_type": "code",
   "execution_count": null,
   "metadata": {},
   "outputs": [],
   "source": [
    "rfmTable.head(3)"
   ]
  },
  {
   "cell_type": "code",
   "execution_count": null,
   "metadata": {},
   "outputs": [],
   "source": [
    "##pip install chart_studio"
   ]
  },
  {
   "cell_type": "code",
   "execution_count": null,
   "metadata": {},
   "outputs": [],
   "source": [
    "##rfmTable.iplot(kind = 'scatter', x = 'Recency', y = 'Customer_Id', mode = 'markers', size = 5)"
   ]
  },
  {
   "cell_type": "code",
   "execution_count": null,
   "metadata": {},
   "outputs": [],
   "source": [
    "##sns.distplot(rfmTable['Recency'], kde = False , bins = 40)"
   ]
  },
  {
   "cell_type": "code",
   "execution_count": null,
   "metadata": {},
   "outputs": [],
   "source": [
    "##sns.distplot(rfmTable['Monetary_Value'], kde = False , bins = 10)\n",
    "\n",
    "##plt.xlim(0, 100)"
   ]
  },
  {
   "cell_type": "code",
   "execution_count": null,
   "metadata": {},
   "outputs": [],
   "source": [
    "# sns.distplot(rfmTable['Recency'], kde = False)"
   ]
  },
  {
   "cell_type": "code",
   "execution_count": null,
   "metadata": {},
   "outputs": [],
   "source": [
    "# sns.distplot(rfmTable['Frequency'], kde = False , bins = 1000)\n",
    "# ##sns.plt.ylim(0, 20)\n",
    "# plt.xlim(0, 30)"
   ]
  },
  {
   "cell_type": "code",
   "execution_count": null,
   "metadata": {},
   "outputs": [],
   "source": [
    "# sns.distplot(rfmTable['Monetary_Value'], kde = False , bins = 1000)\n",
    "# plt.xlim(0, 2000)"
   ]
  },
  {
   "cell_type": "code",
   "execution_count": null,
   "metadata": {},
   "outputs": [],
   "source": [
    "#Split the metrics into segments by using quartiles\n",
    "quantiles =  rfmTable.quantile(q = [0.25,0.5,0.75])\n",
    "quantiles = quantiles.to_dict()\n",
    "print(quantiles)"
   ]
  },
  {
   "cell_type": "markdown",
   "metadata": {},
   "source": [
    "# Segmented RFM Table"
   ]
  },
  {
   "cell_type": "code",
   "execution_count": null,
   "metadata": {},
   "outputs": [],
   "source": [
    "#create a segmented RFM Table\n",
    "segmented_rfm = rfmTable\n",
    "segmented_rfm.head()"
   ]
  },
  {
   "cell_type": "code",
   "execution_count": null,
   "metadata": {},
   "outputs": [],
   "source": [
    "#logic to define the best customers\n",
    "#The lowest recency, highest frequency and monetary amounts are our best customers.\n",
    "def RScore(x,d):\n",
    "    if x <= d['Recency'][0.25]:\n",
    "        return 1\n",
    "    elif x<= d['Recency'][0.50]:\n",
    "        return 2\n",
    "    elif x<= d['Recency'][0.75]:\n",
    "        return 3\n",
    "    else:\n",
    "        return 4\n",
    "    \n",
    "def FScore(x,d):\n",
    "    if x <= d['Frequency'][0.25]:\n",
    "        return 4\n",
    "    elif x<= d['Frequency'][0.50]:\n",
    "        return 3\n",
    "    elif x<= d['Frequency'][0.75]:\n",
    "        return 2\n",
    "    else:\n",
    "        return 1\n",
    "\n",
    "def MScore(x,d):\n",
    "    if x <= d['Monetary_Value'][0.25]:\n",
    "        return 4\n",
    "    elif x<= d['Monetary_Value'][0.50]:\n",
    "        return 3\n",
    "    elif x<= d['Monetary_Value'][0.75]:\n",
    "        return 2\n",
    "    else:\n",
    "        return 1\n",
    "\n",
    "    "
   ]
  },
  {
   "cell_type": "code",
   "execution_count": null,
   "metadata": {},
   "outputs": [],
   "source": [
    "#Add segment numbers to the newly created segmented RFM table\n",
    "segmented_rfm['r_quartile'] = segmented_rfm['Recency'].apply(RScore,args=(quantiles,))\n",
    "segmented_rfm['f_quartile'] = segmented_rfm['Frequency'].apply(FScore,args=(quantiles,))\n",
    "segmented_rfm['m_quartile'] = segmented_rfm['Monetary_Value'].apply(MScore,args=(quantiles,))\n",
    "segmented_rfm.head()"
   ]
  },
  {
   "cell_type": "markdown",
   "metadata": {},
   "source": [
    "# RFM Distribution Plots"
   ]
  },
  {
   "cell_type": "code",
   "execution_count": null,
   "metadata": {},
   "outputs": [],
   "source": [
    "plt.figure(figsize=(12,10))\n",
    "# Plot distribution of Recency\n",
    "plt.subplot(3, 1, 1); sns.distplot(segmented_rfm['Recency'])\n",
    "# Plot distribution of Frequency\n",
    "plt.subplot(3, 1, 2); sns.distplot(segmented_rfm['Frequency'] , bins = 500)\n",
    "plt.xlim(0, 60)\n",
    "# Plot distribution of Monetary_Value\n",
    "plt.subplot(3, 1, 3); sns.distplot(segmented_rfm['Monetary_Value'], bins = 500)\n",
    "plt.xlim(0, 2000)\n",
    "# Show the plot\n",
    "plt.show()"
   ]
  },
  {
   "cell_type": "markdown",
   "metadata": {},
   "source": [
    "# Create RFM Segments"
   ]
  },
  {
   "cell_type": "code",
   "execution_count": null,
   "metadata": {},
   "outputs": [],
   "source": [
    "#Combine RFM Segment\n",
    "segmented_rfm['RFM_Segment'] = segmented_rfm.r_quartile.map(str)+segmented_rfm.f_quartile.map(str)+segmented_rfm.m_quartile.map(str)\n",
    "segmented_rfm.head()"
   ]
  },
  {
   "cell_type": "markdown",
   "metadata": {},
   "source": [
    "# RFM Score"
   ]
  },
  {
   "cell_type": "code",
   "execution_count": null,
   "metadata": {},
   "outputs": [],
   "source": [
    "# Summing the Score\n",
    "# Calculate RFM_Score\n",
    "segmented_rfm['RFM_Score'] = segmented_rfm[['r_quartile','f_quartile','m_quartile']].sum(axis=1)\n",
    "segmented_rfm.head()"
   ]
  },
  {
   "cell_type": "code",
   "execution_count": null,
   "metadata": {},
   "outputs": [],
   "source": [
    "# Count number of unique segments(RFM_Segment)\n",
    "rfm_count_unique = segmented_rfm.groupby('RFM_Segment')['RFM_Segment'].nunique()\n",
    "print(rfm_count_unique.sum())"
   ]
  },
  {
   "cell_type": "code",
   "execution_count": null,
   "metadata": {},
   "outputs": [],
   "source": [
    "segmented_rfm.nunique()"
   ]
  },
  {
   "cell_type": "markdown",
   "metadata": {},
   "source": [
    "# Top 10 Best Customers"
   ]
  },
  {
   "cell_type": "code",
   "execution_count": null,
   "metadata": {},
   "outputs": [],
   "source": [
    "#Who are the top 10 of our best customers!\n",
    "segmented_rfm[segmented_rfm['RFM_Segment']=='111'].sort_values('Monetary_Value', ascending=False).head(10)"
   ]
  },
  {
   "cell_type": "code",
   "execution_count": null,
   "metadata": {},
   "outputs": [],
   "source": [
    "segmented_rfm.head(3)"
   ]
  },
  {
   "cell_type": "code",
   "execution_count": null,
   "metadata": {},
   "outputs": [],
   "source": [
    "segmented_rfm.info()"
   ]
  },
  {
   "cell_type": "code",
   "execution_count": null,
   "metadata": {},
   "outputs": [],
   "source": [
    "# # Define Segment_Level function\n",
    "# def Segment_Level(segmented_rfm):\n",
    "#     if (segmented_rfm['RFM_Segment'] == '111'):\n",
    "#         return 'Best Customers'\n",
    "    \n",
    "#     elif segmented_rfm['RFM_Segment'] == '444': \n",
    "#         return 'Lost Cheap Customers' \n",
    "    \n",
    "#     elif segmented_rfm['RFM_Segment'] == '311': \n",
    "#         return 'Almost Lost' \n",
    "    \n",
    "#     elif segmented_rfm['RFM_Segment'] == '411': \n",
    "#         return 'Lost Customers'   \n",
    "    \n",
    "#     elif segmented_rfm['RFM_Segment'][1] == '1' and not segmented_rfm['RFM_Segment'] == '111' and not segmented_rfm['RFM_Segment'][1:] == '13'and not segmented_rfm['RFM_Segment'][1:] == '14'and not segmented_rfm['RFM_Segment'] == '311' and not segmented_rfm['RFM_Segment'] == '411':\n",
    "#         return 'Loyal Customers'\n",
    "    \n",
    "#     elif segmented_rfm['RFM_Segment'][2] == '1' and not segmented_rfm['RFM_Segment'] == '111' and not segmented_rfm['RFM_Segment'] == '311' and not segmented_rfm['RFM_Segment'] == '411':\n",
    "#         return 'Big Spenders'\n",
    "    \n",
    "#     elif segmented_rfm['RFM_Segment'][1:] == '13' or segmented_rfm['RFM_Segment'][1:] == '14':\n",
    "#         return 'Faithful customers'\n",
    "    \n",
    "#     elif segmented_rfm['RFM_Segment'][0:1] == '14': \n",
    "#         return 'Rookies-Newest Customers'\n",
    "    \n",
    "#     elif segmented_rfm['RFM_Segment'][0:1] == '44' and not segmented_rfm['RFM_Segment'] == '444': \n",
    "#         return 'Slipping-Once Loyal, Now Gone'\n",
    "    \n",
    "#     else:\n",
    "#         return 'Others'"
   ]
  },
  {
   "cell_type": "markdown",
   "metadata": {},
   "source": [
    "# Segment Level"
   ]
  },
  {
   "cell_type": "code",
   "execution_count": null,
   "metadata": {},
   "outputs": [],
   "source": [
    "# Define Segment_Level function\n",
    "def Segment_Level(segmented_rfm):\n",
    "    if (segmented_rfm['RFM_Segment'] == '111'):\n",
    "        return 'Champions'\n",
    "    \n",
    "    elif segmented_rfm['RFM_Segment'] in ['112','211','121']: \n",
    "        return 'Loyal Customers' \n",
    "    \n",
    "    elif segmented_rfm['RFM_Segment'] in ['131','141']: \n",
    "        return 'Potential Loyalist' \n",
    "    \n",
    "    elif segmented_rfm['RFM_Segment'] in ['142','143','144']: \n",
    "        return 'Recent Customers'   \n",
    "    \n",
    "    elif segmented_rfm['RFM_Segment'] in ['221','222','122','212','123','132','213','231','321','312','223','322','232']: \n",
    "        return 'Promising'\n",
    "    \n",
    "    elif segmented_rfm['RFM_Segment'] in ['431','341']: \n",
    "        return 'Needs Attention'\n",
    "    \n",
    "    elif segmented_rfm['RFM_Segment'] in ['332','333','331','313','323','343','233']: \n",
    "        return 'About to Sleep'\n",
    "    \n",
    "    elif segmented_rfm['RFM_Segment'] in ['114','113','124','213','214']: \n",
    "        return 'Price Sensitive'\n",
    "    \n",
    "    elif segmented_rfm['RFM_Segment'] in ['411','421','311']: \n",
    "        return 'Cant Lose Them'\n",
    "    \n",
    "    elif segmented_rfm['RFM_Segment'] in ['433','434' ,'443','344', '334']: \n",
    "        return 'Hibernating'\n",
    "    \n",
    "    elif segmented_rfm['RFM_Segment'] in ['444']: \n",
    "        return 'Lost'\n",
    "    \n",
    "    else:\n",
    "        return 'Others'\n",
    "               \n",
    "    \n",
    "# Create a new variable RFM_Level\n",
    "segmented_rfm['Segment_Level'] = segmented_rfm.apply(Segment_Level, axis=1)\n",
    "\n",
    "\n",
    "# Print the header with top 5 rows to the console\n",
    "segmented_rfm.head()"
   ]
  },
  {
   "cell_type": "code",
   "execution_count": null,
   "metadata": {},
   "outputs": [],
   "source": [
    "segmented_rfm.to_csv('segmented_rfm.csv')"
   ]
  },
  {
   "cell_type": "code",
   "execution_count": null,
   "metadata": {},
   "outputs": [],
   "source": [
    "# Calculate average values for each Segment_Name, and return a size of each segment \n",
    "rfm_level_agg = segmented_rfm.groupby('Segment_Level').agg({\n",
    "    'Recency': 'mean',\n",
    "    'Frequency': 'mean',\n",
    "    'Monetary_Value': ['mean', 'count']\n",
    "}).round(1)\n",
    "\n",
    "# Print the aggregated dataset\n",
    "print(rfm_level_agg)"
   ]
  },
  {
   "cell_type": "code",
   "execution_count": null,
   "metadata": {},
   "outputs": [],
   "source": [
    "rfm_level_agg.columns = rfm_level_agg.columns.droplevel()"
   ]
  },
  {
   "cell_type": "code",
   "execution_count": null,
   "metadata": {},
   "outputs": [],
   "source": [
    "print(rfm_level_agg)"
   ]
  },
  {
   "cell_type": "code",
   "execution_count": null,
   "metadata": {},
   "outputs": [],
   "source": [
    "rfm_level_agg.columns = ['RecencyMean','FrequencyMean','MonetaryMean', 'Count']"
   ]
  },
  {
   "cell_type": "code",
   "execution_count": null,
   "metadata": {},
   "outputs": [],
   "source": [
    "print(rfm_level_agg)"
   ]
  },
  {
   "cell_type": "markdown",
   "metadata": {},
   "source": [
    "# Plot the Heat Map"
   ]
  },
  {
   "cell_type": "code",
   "execution_count": null,
   "metadata": {},
   "outputs": [],
   "source": [
    "#Create the plot\n",
    "fig = plt.gcf()\n",
    "ax = fig.add_subplot()\n",
    "fig.set_size_inches(15, 5)\n",
    "\n",
    "squarify.plot(sizes=rfm_level_agg['Count'], \n",
    "              label=['About to Sleep ',\n",
    "                     'Cant Lose Them ',\n",
    "                     'Champions',\n",
    "                     'Hibernating',\n",
    "                     'Lost', \n",
    "                     'Loyal Customers', \n",
    "                     'Needs Attention',\n",
    "                     'Others',\n",
    "                     'Potential Loyalist', \n",
    "                     'Price Sensitive',\n",
    "                     'Promising',\n",
    "                     'Recent Customers'],color=[\"orange\",\"blue\",\"green\",\"grey\",\"red\",\"yellow\",\"Aqua\",\"Pink\",\"Teal\",\"Gold\",\"violet\",\"navy\"],alpha=.8 )\n",
    "\n",
    "plt.title(\"RFM Segments\",fontsize=25,fontweight=\"bold\")\n",
    "plt.axis('off')\n",
    "plt.show()\n"
   ]
  },
  {
   "cell_type": "code",
   "execution_count": null,
   "metadata": {},
   "outputs": [],
   "source": []
  },
  {
   "cell_type": "code",
   "execution_count": null,
   "metadata": {},
   "outputs": [],
   "source": []
  },
  {
   "cell_type": "code",
   "execution_count": null,
   "metadata": {},
   "outputs": [],
   "source": []
  }
 ],
 "metadata": {
  "kernelspec": {
   "display_name": "Python 3",
   "language": "python",
   "name": "python3"
  },
  "language_info": {
   "codemirror_mode": {
    "name": "ipython",
    "version": 3
   },
   "file_extension": ".py",
   "mimetype": "text/x-python",
   "name": "python",
   "nbconvert_exporter": "python",
   "pygments_lexer": "ipython3",
   "version": "3.7.4"
  }
 },
 "nbformat": 4,
 "nbformat_minor": 2
}
